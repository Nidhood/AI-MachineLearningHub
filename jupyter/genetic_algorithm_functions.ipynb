{
 "nbformat": 4,
 "nbformat_minor": 0,
 "metadata": {
  "colab": {
   "provenance": []
  },
  "kernelspec": {
   "name": "python3",
   "language": "python",
   "display_name": "Python 3 (ipykernel)"
  },
  "language_info": {
   "name": "python"
  }
 },
 "cells": [
  {
   "cell_type": "markdown",
   "source": [
    "\n",
    "# **Algoritmo Genético para Planificación de Rutas** 🧬🗺️\n",
    "\n",
    "----\n",
    "\n",
    "Este trabajo presenta una implementación del algoritmo genético destinado a encontrar la ruta más óptima entre dos puntos, incluso cuando hay obstáculos intermedios. La estrategia se basa en utilizar los puntos de ruta disponibles en el espacio para este propósito. Para visualizar la simulación, se recurrió a la biblioteca Matplotlib. Cabe destacar que se ha recibido inspiración y apoyo del proyecto genetic-algorithm-shortest-path de rofe-dl (consultar su repositorio en https://github.com/rofe-dl/genetic-algorithm-shortest-path). 🚀🔍"
   ],
   "metadata": {
    "id": "yYg2vooSaA8l"
   }
  },
  {
   "cell_type": "markdown",
   "source": [
    "## **I. Importación de Bibliotecas** 📚✨\n",
    "\n"
   ],
   "metadata": {
    "id": "eT5GRbJhb7vk"
   }
  },
  {
   "cell_type": "code",
   "source": [
    "import math                                                     # Importamos el módulo math, que nos permite usar funciones matemáticas.\n",
    "from random import randint                                      # Importamos la función randint del módulo random, que nos permite generar números aleatorios.\n",
    "from shapely.geometry import Polygon, LineString                # Importamos las clases Polygon y LineString del módulo shapely.geometry, que nos permiten crear polígonos y líneas.\n",
    "from utils.plotter import plot                                  # Importamos la función plotter del módulo utils.plotter, que nos permite visualizar la simulación.\n",
    "from config.config_parser import parser                         # Importamos el parser, nos permite leer el archivo de configuración.\n",
    "from utils.obstacle_generator import generate_obstacles         # Importamos la función generate_obstacles del módulo utils.obstacle_generator, que nos permite generar obstáculos.\n",
    "from utils.path_point_generator import generate_path_points     # Importamos la función generate_path_points del módulo utils.path_point_generator, que nos permite generar puntos de ruta.\n",
    "import numpy as np                                              # Importamos la biblioteca numpy, que nos permite trabajar con matrices y vectores.\n",
    "from utils.plotter import _plot_evolution                       # Importamos la función _plot_evolution del módulo utils.plotter, que nos permite visualizar la evolución de la población."
   ],
   "metadata": {
    "id": "kqNhzSkIb02y",
    "ExecuteTime": {
     "end_time": "2024-04-06T23:32:45.963004Z",
     "start_time": "2024-04-06T23:32:44.677670Z"
    }
   },
   "execution_count": 1,
   "outputs": []
  },
  {
   "cell_type": "markdown",
   "source": [
    "## **II. Creación de las Funciones Necesarias para Implementar el Algoritmo Genético** **🧬🛠️**"
   ],
   "metadata": {
    "id": "oM1j7X5pe5MK"
   }
  },
  {
   "cell_type": "markdown",
   "source": [
    "### **1. Definición de la Función para generar cromosomas 🧬🌱:**"
   ],
   "metadata": {
    "id": "8iSzn_ddjEV7"
   }
  },
  {
   "cell_type": "code",
   "source": [
    "# Definimos la funcion para generar cromosomas, recibe como parametro los puntos de la ruta y la validez de la ruta.\n",
    "def generar_cromosoma(puntos_ruta, validez_ruta):\n",
    "\n",
    "    # Inicializamos el cromosoma con el punto de inicio.\n",
    "    cromosoma = '1' # el origen siempre se visita\n",
    "\n",
    "    # Inicializamos el punto de ruta previo con el primer punto de la ruta.\n",
    "    punto_ruta_previo = puntos_ruta[0] # mantenemos un seguimiento del punto de ruta previo que fue 1\n",
    "\n",
    "    # Iteramos sobre los puntos de la ruta.\n",
    "    for i in range(1, len(puntos_ruta)):\n",
    "\n",
    "        # Obtenemos el punto de la ruta.\n",
    "        punto_ruta = puntos_ruta[i]\n",
    "\n",
    "        # Si el punto de la ruta actual es el último y no es válido, retornamos falso.\n",
    "        if i == (len(puntos_ruta) - 1) and not validez_ruta[punto_ruta_previo][i]:\n",
    "            return False\n",
    "\n",
    "        # Si el punto de la ruta actual es válido.\n",
    "        if validez_ruta[punto_ruta_previo][i]:\n",
    "\n",
    "            # Si el punto de la ruta actual es el último.\n",
    "            if i == (len(puntos_ruta) - 1):\n",
    "                gen = '1'\n",
    "\n",
    "            # Si el punto de la ruta actual no es el último.\n",
    "            else:\n",
    "                gen = '0' if randint(1, 10) > 5 else '1'\n",
    "\n",
    "            # Si el gen es 1, actualizamos el punto de ruta previo.\n",
    "            if gen == '1':\n",
    "                punto_ruta_previo = punto_ruta\n",
    "\n",
    "\n",
    "            # Agregamos el gen al cromosoma.\n",
    "            cromosoma += gen\n",
    "\n",
    "        else:\n",
    "\n",
    "            # Si el punto de la ruta actual no es válido, agregamos un 0 al cromosoma.\n",
    "            cromosoma += '0'\n",
    "\n",
    "    # Retornamos el cromosoma.\n",
    "    return cromosoma"
   ],
   "metadata": {
    "id": "fD_oqk8QoETe",
    "ExecuteTime": {
     "end_time": "2024-04-06T23:32:47.060993Z",
     "start_time": "2024-04-06T23:32:47.054735Z"
    }
   },
   "execution_count": 2,
   "outputs": []
  },
  {
   "cell_type": "markdown",
   "source": [
    "### **2. Definición de la función para identificar si se ha encotrado un obstaculo 🧬🌱:**"
   ],
   "metadata": {
    "id": "iBF1jjUJpk9V"
   }
  },
  {
   "cell_type": "code",
   "source": [
    "# Definimos la función para verificar si la ruta se superpone con un obstáculo, recibe como parámetros el punto de la ruta 1, el punto de la ruta 2 y los obstáculos.\n",
    "def ruta_se_superpone_obstaculo(punto_ruta_1, punto_ruta_2, obstáculos):\n",
    "\n",
    "    # Creamos una línea con los puntos de la ruta.\n",
    "    ruta = LineString([punto_ruta_1, punto_ruta_2])\n",
    "\n",
    "    # Iteramos sobre los obstáculos.\n",
    "    for obstáculo in obstáculos:\n",
    "\n",
    "        # Creamos un polígono con el obstáculo.\n",
    "        obstáculo = Polygon(obstáculo)\n",
    "\n",
    "        # Si la ruta se superpone con el obstáculo, retornamos verdadero.\n",
    "        if ruta.intersects(obstáculo):\n",
    "            return True\n",
    "\n",
    "    # Retornamos falso si la ruta no se superpone con ningún obstáculo.\n",
    "    return False"
   ],
   "metadata": {
    "id": "69P7mXAqqCql",
    "ExecuteTime": {
     "end_time": "2024-04-06T23:32:47.917074Z",
     "start_time": "2024-04-06T23:32:47.911129Z"
    }
   },
   "execution_count": 3,
   "outputs": []
  },
  {
   "cell_type": "markdown",
   "source": [
    "### **3. Definición de la función para verificar que el   cromosoma es valido 🧬🌱:**"
   ],
   "metadata": {
    "id": "VQF8h_AHpLJs"
   }
  },
  {
   "cell_type": "code",
   "source": [
    "# Definimos la función para verificar si el cromosoma es válido, recibe como parámetros el cromosoma, los obstáculos y los puntos de la ruta.\n",
    "def cromosoma_valido(cromosoma, obstáculos, puntos_ruta):\n",
    "\n",
    "    # Inicializamos los puntos de la ruta 1 y 2.\n",
    "    punto_ruta_1, punto_ruta_2 = (), ()\n",
    "\n",
    "    # Iteramos sobre los genes del cromosoma.\n",
    "    for i, gen in enumerate(cromosoma):\n",
    "\n",
    "        # Si el gen es 1.\n",
    "        if gen == '1':\n",
    "\n",
    "            # Si no hay un punto de la ruta 1, asignamos el punto de la ruta actual.\n",
    "            if not punto_ruta_1:\n",
    "                punto_ruta_1 = puntos_ruta[i]\n",
    "\n",
    "            # Si hay un punto de la ruta 1, asignamos el punto de la ruta actual al punto de la ruta 2.\n",
    "            else:\n",
    "                punto_ruta_2 = puntos_ruta[i]\n",
    "\n",
    "            # Si hay un punto de la ruta 1 y un punto de la ruta 2.\n",
    "            if punto_ruta_1 and punto_ruta_2:\n",
    "\n",
    "\n",
    "                # Si la ruta se superpone con un obstáculo, retornamos falso.\n",
    "                if ruta_se_superpone_obstaculo(punto_ruta_1, punto_ruta_2, obstáculos):\n",
    "                    return False\n",
    "\n",
    "\n",
    "                # Actualizamos el punto de la ruta 1 y el punto de la ruta 2.\n",
    "                punto_ruta_1 = punto_ruta_2\n",
    "\n",
    "                # Reiniciamos el punto de la ruta 2.\n",
    "                punto_ruta_2 = ()\n",
    "\n",
    "    # Retornamos verdadero.\n",
    "    return True"
   ],
   "metadata": {
    "id": "Yxzn25D3pVIC",
    "ExecuteTime": {
     "end_time": "2024-04-06T23:32:48.685920Z",
     "start_time": "2024-04-06T23:32:48.681204Z"
    }
   },
   "execution_count": 4,
   "outputs": []
  },
  {
   "cell_type": "markdown",
   "source": [
    "### **4. Definición de la función para Generar la Población Inicial y las Subsiguientes Generaciones 🧬🌱:**"
   ],
   "metadata": {
    "id": "gKFIxJl0hUIo"
   }
  },
  {
   "cell_type": "code",
   "source": [
    "# De parametro recibe los puntos de la ruta, los obstáculos y la validez de la ruta.\n",
    "def generar_poblacion(puntos_ruta, obstáculos, validez_ruta):\n",
    "\n",
    "\n",
    "    # Obtenemos el tamaño de la población del archivo de configuración.\n",
    "    tamaño_poblacion = int(parser['Genetic Algorithm']['population_size'])\n",
    "\n",
    "    # Creamos una lista vacía para almacenar la población.\n",
    "    poblacion = []\n",
    "\n",
    "    # Imprimimos un mensaje en consola, para indicar que se está generando la población inicial.\n",
    "    print('Generando población inicial, por favor espere ....')\n",
    "\n",
    "    # Iteramos sobre el tamaño de la población.\n",
    "    for i in range(tamaño_poblacion):\n",
    "\n",
    "        # Creamos un cromosoma, si el cromosoma no es válido, lo volvemos a crear.\n",
    "        while True:\n",
    "            cromosoma = generar_cromosoma(puntos_ruta, validez_ruta)\n",
    "            if cromosoma:\n",
    "                break\n",
    "\n",
    "        # Agregamos el cromosoma a la población.\n",
    "        poblacion.append(cromosoma)\n",
    "\n",
    "    # Imprimimos un mensaje en consola, para indicar que la población inicial ha sido creada con éxito.\n",
    "    print('Población inicial creada con éxito')\n",
    "\n",
    "    # Imprimimos un mensaje en consola, para indicar que se está simulando el algoritmo genético para la planificación de la ruta.\n",
    "    print('Simulando algoritmo genético para planificación de ruta .... (Presione Ctrl+C para detener)')\n",
    "\n",
    "\n",
    "    # Retornamos la población.\n",
    "    return poblacion"
   ],
   "metadata": {
    "id": "BBpyzO46eEku",
    "ExecuteTime": {
     "end_time": "2024-04-06T23:32:49.434748Z",
     "start_time": "2024-04-06T23:32:49.429109Z"
    }
   },
   "execution_count": 5,
   "outputs": []
  },
  {
   "cell_type": "markdown",
   "source": [
    "### **5. Definición de la función para operar la mutación sobre un cromosoma🧬🌱:**"
   ],
   "metadata": {
    "id": "sNMPVk3CsWDe"
   }
  },
  {
   "cell_type": "code",
   "source": [
    "# Definimos la función para operar la mutación, recibe como parámetro el cromosoma.\n",
    "def mutacion(cromosoma):\n",
    "\n",
    "    # Obtenemos un índice aleatorio.\n",
    "    indice = randint(1, len(cromosoma) - 2) # no mutaremos los genes de inicio y fin\n",
    "\n",
    "    # Convertimos el cromosoma en una lista.\n",
    "    cromosoma = list(cromosoma)\n",
    "\n",
    "    # Mutamos el gen en el índice aleatorio.\n",
    "    cromosoma[indice] = '1' if  cromosoma[indice] == '0' else '0'\n",
    "\n",
    "    # Retornamos el cromosoma, convertido en una cadena.\n",
    "    return ''.join(cromosoma)"
   ],
   "metadata": {
    "id": "Xzixy1hDsX63",
    "ExecuteTime": {
     "end_time": "2024-04-06T23:32:50.190583Z",
     "start_time": "2024-04-06T23:32:50.186622Z"
    }
   },
   "execution_count": 6,
   "outputs": []
  },
  {
   "cell_type": "markdown",
   "source": [
    "### **6. Definición de la función para calcular la distancia euclidiana entre dos puntos de la ruta 🧬🌱:**"
   ],
   "metadata": {
    "id": "Rsjipd4uqbqY"
   }
  },
  {
   "cell_type": "code",
   "source": [
    "# Definimos la función para calcular la distancia euclidiana entre dos puntos de la ruta, recibe como parámetros el punto de la ruta 1 y el punto de la ruta 2.\n",
    "def distancia(punto_ruta_1, punto_ruta_2):\n",
    "\n",
    "    # Retornamos la distancia euclidiana entre los dos puntos de la ruta.\n",
    "    return math.sqrt( (punto_ruta_2[0] - punto_ruta_1[0])**2 + (punto_ruta_2[1] - punto_ruta_1[1])**2 )"
   ],
   "metadata": {
    "id": "3BgdkGkKqkDb",
    "ExecuteTime": {
     "end_time": "2024-04-06T23:32:50.830159Z",
     "start_time": "2024-04-06T23:32:50.825757Z"
    }
   },
   "execution_count": 7,
   "outputs": []
  },
  {
   "cell_type": "markdown",
   "source": [
    "### **7. Definición de la función para calcular la longitud total del cromosoma 🧬🌱:**"
   ],
   "metadata": {
    "id": "3aKys_aIrjWW"
   }
  },
  {
   "cell_type": "code",
   "source": [
    "# Definimos la función para calcular la longitud de la ruta, recibe como parámetros el cromosoma y los puntos de la ruta.\n",
    "def calcular_longitud_ruta(cromosoma, puntos_ruta):\n",
    "\n",
    "    # Inicializamos los puntos de la ruta 1 y 2, y la longitud.\n",
    "    punto_ruta_1, punto_ruta_2 = (), ()\n",
    "    longitud = 0\n",
    "\n",
    "    # Iteramos sobre los genes del cromosoma.\n",
    "    for i, gen in enumerate(cromosoma):\n",
    "\n",
    "        # Si el gen es 1.\n",
    "        if gen == '1':\n",
    "\n",
    "            # Si no hay un punto de la ruta 1, asignamos el punto de la ruta actual.\n",
    "            ultimo_punto_ruta = puntos_ruta[i]\n",
    "\n",
    "            # Si no hay un punto de la ruta 1, asignamos el punto de la ruta actual.\n",
    "            if not punto_ruta_1:\n",
    "                punto_ruta_1 = puntos_ruta[i]\n",
    "\n",
    "            # Si hay un punto de la ruta 1, asignamos el punto de la ruta actual al punto de la ruta 2.\n",
    "            else:\n",
    "                punto_ruta_2 = puntos_ruta[i]\n",
    "\n",
    "            # Si hay un punto de la ruta 1 y un punto de la ruta 2.\n",
    "            if punto_ruta_1 and punto_ruta_2:\n",
    "\n",
    "\n",
    "                # Calculamos la distancia entre los dos puntos de la ruta.\n",
    "                longitud += distancia(punto_ruta_1, punto_ruta_2)\n",
    "\n",
    "                # Actualizamos el punto de la ruta 1 y el punto de la ruta 2.\n",
    "                punto_ruta_1 = punto_ruta_2\n",
    "\n",
    "                # Reiniciamos el punto de la ruta 2.\n",
    "                punto_ruta_2 = ()\n",
    "\n",
    "    # Retornamos la longitud de la ruta.\n",
    "    return longitud"
   ],
   "metadata": {
    "id": "e8cl8Hmrrk_2",
    "ExecuteTime": {
     "end_time": "2024-04-06T23:32:51.407073Z",
     "start_time": "2024-04-06T23:32:51.401544Z"
    }
   },
   "execution_count": 8,
   "outputs": []
  },
  {
   "cell_type": "markdown",
   "source": [
    "### **8. Definición de la función para calcular el fitness 🧬🌱:**"
   ],
   "metadata": {
    "id": "oQ8oZXsltOBv"
   }
  },
  {
   "cell_type": "code",
   "source": [
    "# Definimos la función para calcular el fitness, recibe como parámetros el cromosoma y los puntos de la ruta.\n",
    "def fitness(cromosoma, puntos_ruta):\n",
    "\n",
    "    # Calculamos la longitud de la ruta.\n",
    "    longitud = calcular_longitud_ruta(cromosoma, puntos_ruta)\n",
    "\n",
    "    # Calculamos el fitness, donde el fitness es igual a 1 dividido por la longitud de la ruta, si la longitud de la ruta es diferente de 0, de lo contrario, el fitness es igual a 0.\n",
    "    fitness = 1 / longitud if longitud != 0 else 0\n",
    "\n",
    "    # Retornamos el fitness.\n",
    "    return fitness"
   ],
   "metadata": {
    "id": "R3tXh8vCtP78",
    "ExecuteTime": {
     "end_time": "2024-04-06T23:32:52.147650Z",
     "start_time": "2024-04-06T23:32:52.142732Z"
    }
   },
   "execution_count": 9,
   "outputs": []
  },
  {
   "cell_type": "markdown",
   "source": [
    "### **9. Definición de la función para organizar la población con respecto a la función fitness como lista de prioridad (de mayor a menor probabilidad) 🧬🌱:**"
   ],
   "metadata": {
    "id": "Tj5AcBCzGeeX"
   }
  },
  {
   "cell_type": "code",
   "source": [
    "# Definimos la función para ordenar la población por fitness, recibe como parámetros la población y los puntos de la ruta.\n",
    "def ordenar_por_fitness(población, puntos_ruta):\n",
    "\n",
    "    # Creamos una lista vacía para almacenar el fitness.\n",
    "    lista_fitness = []\n",
    "\n",
    "    # Iteramos sobre los cromosomas en la población.\n",
    "    for cromosoma in población:\n",
    "\n",
    "        # Calculamos el fitness del cromosoma.\n",
    "        cromosoma_a_fitness = (cromosoma, fitness(cromosoma, puntos_ruta))\n",
    "\n",
    "        # Agregamos el cromosoma y el fitness a la lista de fitness.\n",
    "        lista_fitness.append(cromosoma_a_fitness)\n",
    "\n",
    "\n",
    "    # Ordenamos la lista de fitness en orden descendente, es decir, de mayor probabilidad a menor probabilidad según el fitness.\n",
    "    lista_fitness.sort(reverse=True, key=lambda tupla: tupla[1])\n",
    "\n",
    "    # Retornamos la lista de fitness.\n",
    "    return lista_fitness"
   ],
   "metadata": {
    "id": "qKBUt21nGewb",
    "ExecuteTime": {
     "end_time": "2024-04-06T23:32:52.925664Z",
     "start_time": "2024-04-06T23:32:52.918515Z"
    }
   },
   "execution_count": 10,
   "outputs": []
  },
  {
   "cell_type": "markdown",
   "source": [
    "### **10. Definición de la función para realizar el cruce entre dos cromosomas padres 🧬🌱:**"
   ],
   "metadata": {
    "id": "Yc9W8IKQFS1X"
   }
  },
  {
   "cell_type": "code",
   "source": [
    "# Definimos la función para realizar el cruce, recibe como parámetros el padre 1 y el padre 2.\n",
    "def cruce(padre1, padre2):\n",
    "\n",
    "    # Si el cruce se realiza de forma aleatoria.\n",
    "    if parser['Genetic Algorithm'].getboolean('crossover_split_random'):\n",
    "        tamano_division = randint(0, len(padre1))\n",
    "\n",
    "    # Si  el cruce se realiza de forma del tamaño de la fracción.\n",
    "    else:\n",
    "        fracción = float(parser['Genetic Algorithm']['crossover_split_size'])\n",
    "        tamano_division = math.floor(fracción * len(padre1))\n",
    "\n",
    "    # Retornamos el hijo, que es igual a la concatenación de la primera mitad del padre 1 y la segunda mitad del padre 2.\n",
    "    return ''.join([padre1[:tamano_division], padre2[tamano_division:]])"
   ],
   "metadata": {
    "id": "7Cl3Sy_6F5fD",
    "ExecuteTime": {
     "end_time": "2024-04-06T23:32:53.736295Z",
     "start_time": "2024-04-06T23:32:53.730256Z"
    }
   },
   "execution_count": 11,
   "outputs": []
  },
  {
   "cell_type": "markdown",
   "source": [
    "### **10. Definición de la función para realizar la selección aleatoria del cromosoma para la siguiente descendencia 🧬🌱:**"
   ],
   "metadata": {
    "id": "D8dqOHInHNuQ"
   }
  },
  {
   "cell_type": "code",
   "source": [
    "# Definimos la función para elegir un padre aleatorio, recibe como parámetro la lista de fitness.\n",
    "def elegir_padre_aleatorio(lista_fitness):\n",
    "\n",
    "    # Obtenemos el índice hasta el cual se seleccionará el padre.\n",
    "    hasta_indice = len(lista_fitness) * float(parser['Genetic Algorithm']['top_percentage'])\n",
    "\n",
    "    # Redondeamos el índice hasta el entero más cercano.\n",
    "    hasta_indice = math.floor(hasta_indice)\n",
    "\n",
    "    # Elegimos un padre aleatorio de la lista de fitness.\n",
    "    padre_a_fitness = lista_fitness[randint(0, hasta_indice)]\n",
    "\n",
    "    # Retornamos el padre.\n",
    "    return padre_a_fitness[0]"
   ],
   "metadata": {
    "id": "WNhQ8zBsHV6u",
    "ExecuteTime": {
     "end_time": "2024-04-06T23:32:54.520846Z",
     "start_time": "2024-04-06T23:32:54.517385Z"
    }
   },
   "execution_count": 12,
   "outputs": []
  },
  {
   "cell_type": "markdown",
   "source": [
    "### **11. Definición de la función para ejecutar el algoritmo genético 🧬🌱:**\n",
    "\n",
    "![Projecto ED - GAs Flow-shart.png](data:image/png;base64,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)"
   ],
   "metadata": {
    "id": "PY5ShPVlKFsA"
   }
  },
  {
   "cell_type": "code",
   "source": [
    "# Definimos la función para ejecutar el algoritmo genético, recibe como parámetros los obstáculos, los puntos de la ruta y la validez de la ruta.\n",
    "def iniciar(obstaculos, puntos_ruta, validez_ruta):\n",
    "\n",
    "    # Generamos la población inicial:\n",
    "    poblacion = generar_poblacion(puntos_ruta, obstaculos, validez_ruta)\n",
    "\n",
    "    # Creamos una lista vacía para almacenar las longitudes de la ruta.\n",
    "    longitudes_ruta = []\n",
    "\n",
    "\n",
    "    # Calculamos la longitud de la ruta para cada cromosoma en la población y, la almacenamos en la lista de longitudes de la ruta.\n",
    "    for cromosoma in poblacion:\n",
    "        longitudes_ruta.append(calcular_longitud_ruta(cromosoma, puntos_ruta))\n",
    "\n",
    "\n",
    "    # Imprimimos en la pantalla una gráfica con la población inicial.\n",
    "    plot(obstaculos, puntos_ruta, poblacion, longitudes_ruta, 1, False)\n",
    "\n",
    "    # Obtenemos el número de generaciones del archivo de configuración.\n",
    "    generaciones = int(parser['Genetic Algorithm']['max_generations'])\n",
    "    \n",
    "    # Lista para almacenar las longitudes medias de las rutas por generación\n",
    "    evolution_data = []\n",
    "\n",
    "    # Iteramos sobre el número de generaciones.\n",
    "    for gen in range(generaciones - 1):\n",
    "\n",
    "        # Creamos una lista vacía para almacenar la nueva población.\n",
    "        nueva_poblacion = []\n",
    "\n",
    "        # Limpiamos la lista de longitudes de la ruta.\n",
    "        longitudes_ruta.clear()\n",
    "\n",
    "        # Ordenamos la población por fitness:\n",
    "        lista_fitness = ordenar_por_fitness(poblacion, puntos_ruta)\n",
    "\n",
    "        # Iteramos sobre la población:\n",
    "        for cromosoma in poblacion:\n",
    "\n",
    "            # Creamos un bucle infinito, mientras no se genere un hijo válido.\n",
    "            while True:\n",
    "                padre1 = elegir_padre_aleatorio(lista_fitness)\n",
    "                padre2 = elegir_padre_aleatorio(lista_fitness)\n",
    "\n",
    "                hijo = cruce(padre1, padre2)\n",
    "\n",
    "                if randint(1, 10) <= 10 * float(parser['Genetic Algorithm']['mutation_probability']):\n",
    "                    hijo = mutacion(hijo)\n",
    "\n",
    "                if cromosoma_valido(hijo, obstaculos, puntos_ruta):\n",
    "                    break\n",
    "\n",
    "            # Si el hijo es válido, calculamos la longitud de la ruta y la agregamos a la lista de longitudes de la ruta.\n",
    "            longitudes_ruta.append(calcular_longitud_ruta(hijo, puntos_ruta))\n",
    "            \n",
    "            # Calculamos la longitud media de las rutas y la agregamos a la lista de evolución\n",
    "            evolution_data.append(np.mean(longitudes_ruta))\n",
    "\n",
    "            # Agregamos el hijo a la nueva población.\n",
    "            nueva_poblacion.append(hijo)\n",
    "\n",
    "        # Actualizamos la población, por su descendencia:\n",
    "        poblacion = nueva_poblacion\n",
    "\n",
    "        # Imprimimos en la pantalla una gráfica con la población actual:\n",
    "        plot(obstaculos, puntos_ruta, nueva_poblacion, longitudes_ruta, (gen+2), last_gen=True if gen == generaciones-2 else False )\n",
    "    \n",
    "    # Al finalizar el bucle, mostramos la gráfica final y la evolución de las longitudes del camino\n",
    "    _plot_evolution(evolution_data)"
   ],
   "metadata": {
    "id": "iK64uD2CHzkN",
    "ExecuteTime": {
     "end_time": "2024-04-06T23:32:55.393985Z",
     "start_time": "2024-04-06T23:32:55.385501Z"
    }
   },
   "execution_count": 13,
   "outputs": []
  },
  {
   "cell_type": "code",
   "outputs": [],
   "source": [
    "\n",
    "# Definimos la función para distribuir los puntos de la ruta de forma aleatoria.\n",
    "def puntos_iniciales_de_la_ruta():\n",
    "\n",
    "    # Si la opción de generar puntos de la ruta aleatoriamente está activada en el archivo de configuración.\n",
    "    if parser['Path Points'].getboolean('generate_randomly'):\n",
    "        \n",
    "        # Generamos los puntos de la ruta de forma aleatoria.\n",
    "        generate_path_points(path_points, obstacles)\n",
    "\n",
    "    else:\n",
    "        \n",
    "        # Si no, se obtienen los puntos de la ruta del archivo de configuración.\n",
    "        for element in eval(parser['Hardcoded Path Points']['path_points']):\n",
    "            \n",
    "            # Se agregan los puntos de la ruta a la lista de puntos de la ruta.\n",
    "            path_points.append(element)"
   ],
   "metadata": {
    "collapsed": false,
    "ExecuteTime": {
     "end_time": "2024-04-06T23:32:55.946050Z",
     "start_time": "2024-04-06T23:32:55.942041Z"
    }
   },
   "execution_count": 14
  },
  {
   "cell_type": "code",
   "outputs": [],
   "source": [
    "def inicializar_obstaculos():\n",
    "\n",
    "    # Si la opción de generar obstáculos aleatoriamente está activada en el archivo de configuración.\n",
    "    if parser['Obstacles'].getboolean('generate_randomly'):\n",
    "        \n",
    "        # Se obtiene el número de obstáculos del archivo de configuración.\n",
    "        number_of_obstacles = int(parser['Obstacles']['number_of_obstacles'])\n",
    "        \n",
    "        # Se generan los obstáculos de forma aleatoria.\n",
    "        generate_obstacles(obstacles, number_of_obstacles)\n",
    "\n",
    "    else:\n",
    "        \n",
    "        # Si no, se obtienen los obstáculos del archivo de configuración.\n",
    "        for i in range(int(parser['Hardcoded Obstacles']['number_of_hardcoded_obstacles'])):\n",
    "            \n",
    "            # Se agregan los obstáculos a la lista de obstáculos.\n",
    "            obstacle = eval(parser['Hardcoded Obstacles'][f\"obstacle_{i+1}\"])\n",
    "            \n",
    "            # Se agregan los obstáculos a la lista de obstáculos.\n",
    "            obstacles.append(obstacle)"
   ],
   "metadata": {
    "collapsed": false,
    "ExecuteTime": {
     "end_time": "2024-04-06T23:32:56.443756Z",
     "start_time": "2024-04-06T23:32:56.438883Z"
    }
   },
   "execution_count": 15
  },
  {
   "cell_type": "code",
   "outputs": [],
   "source": [
    "\n",
    "# Definimos la función para inicializar la validez de la ruta.\n",
    "def inicializar_validez_de_ruta():\n",
    "    \n",
    "    # Iteramos sobre los puntos de la ruta.\n",
    "    for i, path_point_start in enumerate(path_points):\n",
    "\n",
    "        # Si el punto de inicio de la ruta no está en la validez de la ruta.\n",
    "        if path_point_start not in path_validity:\n",
    "            path_validity[path_point_start] = [True] * len(path_points)\n",
    "\n",
    "        # Iteramos sobre los puntos de la ruta.\n",
    "        for j, path_point_end in enumerate(path_points):\n",
    "\n",
    "            # Si el punto de fin de la ruta no está en la validez de la ruta.\n",
    "            if path_point_end not in path_validity:\n",
    "                \n",
    "                # Se agrega el punto de fin de la ruta a la validez de la ruta.\n",
    "                path_validity[path_point_end] = [True] * len(path_points)\n",
    "\n",
    "            # Si la ruta se superpone con un obstáculo.\n",
    "            if ruta_se_superpone_obstaculo(path_point_start, path_point_end, obstacles):\n",
    "                \n",
    "                # Se establece la validez de la ruta en falso.\n",
    "                path_validity[path_point_start][j] = False\n",
    "                \n",
    "                # Se establece la validez de la ruta en falso.\n",
    "                path_validity[path_point_end][i] = False"
   ],
   "metadata": {
    "collapsed": false,
    "ExecuteTime": {
     "end_time": "2024-04-06T23:32:56.906204Z",
     "start_time": "2024-04-06T23:32:56.899597Z"
    }
   },
   "execution_count": 16
  },
  {
   "cell_type": "code",
   "outputs": [
    {
     "data": {
      "text/plain": "['../config/config.ini']"
     },
     "execution_count": 17,
     "metadata": {},
     "output_type": "execute_result"
    }
   ],
   "source": [
    "\n",
    "# Inicializamos las ubicaciones de los obstáculos:\n",
    "obstacles = []\n",
    "\n",
    "# Inicializamos las ubicaciones de los puntos de la ruta:\n",
    "path_points = []\n",
    "\n",
    "# Inicializamos la validez de la ruta:\n",
    "path_validity = dict()\n",
    "\n",
    "# Inicializamos el parser para leer el archivo de configuración:\n",
    "parser.read('../config/config.ini')"
   ],
   "metadata": {
    "collapsed": false,
    "ExecuteTime": {
     "end_time": "2024-04-06T23:32:57.516396Z",
     "start_time": "2024-04-06T23:32:57.510255Z"
    }
   },
   "execution_count": 17
  },
  {
   "cell_type": "code",
   "outputs": [
    {
     "name": "stdout",
     "output_type": "stream",
     "text": [
      "Generando obstáculos ....\n"
     ]
    }
   ],
   "source": [
    "# Inicializamos los obstáculos:\n",
    "inicializar_obstaculos()   "
   ],
   "metadata": {
    "collapsed": false,
    "ExecuteTime": {
     "end_time": "2024-04-06T23:32:57.910294Z",
     "start_time": "2024-04-06T23:32:57.903478Z"
    }
   },
   "execution_count": 18
  },
  {
   "cell_type": "code",
   "outputs": [
    {
     "name": "stdout",
     "output_type": "stream",
     "text": [
      "Generando puntos de ruta ....\n"
     ]
    }
   ],
   "source": [
    "# Inicializamos los puntos de la ruta:\n",
    "puntos_iniciales_de_la_ruta()"
   ],
   "metadata": {
    "collapsed": false,
    "ExecuteTime": {
     "end_time": "2024-04-06T23:32:58.646769Z",
     "start_time": "2024-04-06T23:32:58.589507Z"
    }
   },
   "execution_count": 19
  },
  {
   "cell_type": "code",
   "outputs": [],
   "source": [
    "# Inicializamos la validez de la ruta:\n",
    "inicializar_validez_de_ruta()"
   ],
   "metadata": {
    "collapsed": false,
    "ExecuteTime": {
     "end_time": "2024-04-06T23:32:59.949219Z",
     "start_time": "2024-04-06T23:32:59.849825Z"
    }
   },
   "execution_count": 20
  },
  {
   "cell_type": "code",
   "outputs": [
    {
     "data": {
      "text/plain": "<Figure size 640x480 with 1 Axes>",
      "image/png": "[encoded data removed]"
     },
     "metadata": {},
     "output_type": "display_data"
    },
    {
     "name": "stdout",
     "output_type": "stream",
     "text": [
      "¡Listo! Camino más corto encontrado.\n"
     ]
    },
    {
     "data": {
      "text/plain": "<Figure size 640x480 with 1 Axes>",
      "image/png": "[encoded data removed]"
     },
     "metadata": {},
     "output_type": "display_data"
    }
   ],
   "source": [
    "# Ejecutamos el algoritmo genético:\n",
    "iniciar(obstacles, path_points, path_validity)"
   ],
   "metadata": {
    "collapsed": false
   },
   "execution_count": 21
  },
  {
   "cell_type": "code",
   "outputs": [],
   "source": [],
   "metadata": {
    "collapsed": false
   }
  }
 ]
}
